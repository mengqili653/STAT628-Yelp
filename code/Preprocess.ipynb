{
 "cells": [
  {
   "cell_type": "code",
   "execution_count": 120,
   "metadata": {},
   "outputs": [],
   "source": [
    "import pandas as pd\n",
    "\n",
    "# Read json files\n",
    "review = pd.read_json('/Users/65733/Desktop/STAT628/Module_3/Fall2020_Stat628/Data/review_city.json',lines=True)\n",
    "business = pd.read_json('/Users/65733/Desktop/STAT628/Module_3/Fall2020_Stat628/Data/business_city.json',lines=True)\n",
    "tip = pd.read_json('/Users/65733/Desktop/STAT628/Module_3/Fall2020_Stat628/Data/tip_city.json',lines=True)\n",
    "user = pd.read_json('/Users/65733/Desktop/STAT628/Module_3/Fall2020_Stat628/Data/user_city.json',lines=True)\n"
   ]
  },
  {
   "cell_type": "code",
   "execution_count": 121,
   "metadata": {},
   "outputs": [
    {
     "data": {
      "text/plain": [
       "(942027, 9)"
      ]
     },
     "execution_count": 121,
     "metadata": {},
     "output_type": "execute_result"
    }
   ],
   "source": [
    "review.shape"
   ]
  },
  {
   "cell_type": "code",
   "execution_count": 122,
   "metadata": {},
   "outputs": [
    {
     "data": {
      "text/plain": [
       "(36327, 14)"
      ]
     },
     "execution_count": 122,
     "metadata": {},
     "output_type": "execute_result"
    }
   ],
   "source": [
    "business.shape"
   ]
  },
  {
   "cell_type": "code",
   "execution_count": 58,
   "metadata": {},
   "outputs": [
    {
     "data": {
      "text/html": [
       "<div>\n",
       "<style scoped>\n",
       "    .dataframe tbody tr th:only-of-type {\n",
       "        vertical-align: middle;\n",
       "    }\n",
       "\n",
       "    .dataframe tbody tr th {\n",
       "        vertical-align: top;\n",
       "    }\n",
       "\n",
       "    .dataframe thead th {\n",
       "        text-align: right;\n",
       "    }\n",
       "</style>\n",
       "<table border=\"1\" class=\"dataframe\">\n",
       "  <thead>\n",
       "    <tr style=\"text-align: right;\">\n",
       "      <th></th>\n",
       "      <th>address</th>\n",
       "      <th>attributes</th>\n",
       "      <th>business_id</th>\n",
       "      <th>categories</th>\n",
       "      <th>city</th>\n",
       "      <th>hours</th>\n",
       "      <th>is_open</th>\n",
       "      <th>latitude</th>\n",
       "      <th>longitude</th>\n",
       "      <th>name</th>\n",
       "      <th>postal_code</th>\n",
       "      <th>review_count</th>\n",
       "      <th>stars</th>\n",
       "      <th>state</th>\n",
       "    </tr>\n",
       "  </thead>\n",
       "  <tbody>\n",
       "    <tr>\n",
       "      <th>0</th>\n",
       "      <td>404 E Green St</td>\n",
       "      <td>{'RestaurantsAttire': 'u'casual'', 'Restaurant...</td>\n",
       "      <td>pQeaRpvuhoEqudo3uymHIQ</td>\n",
       "      <td>Ethnic Food, Food Trucks, Specialty Food, Impo...</td>\n",
       "      <td>Champaign</td>\n",
       "      <td>{'Monday': '11:30-14:30', 'Tuesday': '11:30-14...</td>\n",
       "      <td>1</td>\n",
       "      <td>40.110446</td>\n",
       "      <td>-88.233073</td>\n",
       "      <td>The Empanadas House</td>\n",
       "      <td>61820</td>\n",
       "      <td>5</td>\n",
       "      <td>4.5</td>\n",
       "      <td>IL</td>\n",
       "    </tr>\n",
       "    <tr>\n",
       "      <th>1</th>\n",
       "      <td>1110 Saw Mill Run Blvd</td>\n",
       "      <td>{'BusinessAcceptsCreditCards': 'True'}</td>\n",
       "      <td>7Dv4_HAxsxvadEsT5fxQBg</td>\n",
       "      <td>Automotive, Auto Repair</td>\n",
       "      <td>Pittsburgh</td>\n",
       "      <td>{'Monday': '8:0-17:0', 'Tuesday': '8:0-17:0', ...</td>\n",
       "      <td>1</td>\n",
       "      <td>40.406667</td>\n",
       "      <td>-80.004450</td>\n",
       "      <td>Dependable Brakes &amp; Exhaust</td>\n",
       "      <td>15226</td>\n",
       "      <td>5</td>\n",
       "      <td>5.0</td>\n",
       "      <td>PA</td>\n",
       "    </tr>\n",
       "  </tbody>\n",
       "</table>\n",
       "</div>"
      ],
      "text/plain": [
       "                  address                                         attributes  \\\n",
       "0          404 E Green St  {'RestaurantsAttire': 'u'casual'', 'Restaurant...   \n",
       "1  1110 Saw Mill Run Blvd             {'BusinessAcceptsCreditCards': 'True'}   \n",
       "\n",
       "              business_id                                         categories  \\\n",
       "0  pQeaRpvuhoEqudo3uymHIQ  Ethnic Food, Food Trucks, Specialty Food, Impo...   \n",
       "1  7Dv4_HAxsxvadEsT5fxQBg                            Automotive, Auto Repair   \n",
       "\n",
       "         city                                              hours  is_open  \\\n",
       "0   Champaign  {'Monday': '11:30-14:30', 'Tuesday': '11:30-14...        1   \n",
       "1  Pittsburgh  {'Monday': '8:0-17:0', 'Tuesday': '8:0-17:0', ...        1   \n",
       "\n",
       "    latitude  longitude                         name postal_code  \\\n",
       "0  40.110446 -88.233073          The Empanadas House       61820   \n",
       "1  40.406667 -80.004450  Dependable Brakes & Exhaust       15226   \n",
       "\n",
       "   review_count  stars state  \n",
       "0             5    4.5    IL  \n",
       "1             5    5.0    PA  "
      ]
     },
     "execution_count": 58,
     "metadata": {},
     "output_type": "execute_result"
    }
   ],
   "source": [
    "business.head(2)"
   ]
  },
  {
   "cell_type": "code",
   "execution_count": 59,
   "metadata": {},
   "outputs": [
    {
     "data": {
      "text/html": [
       "<div>\n",
       "<style scoped>\n",
       "    .dataframe tbody tr th:only-of-type {\n",
       "        vertical-align: middle;\n",
       "    }\n",
       "\n",
       "    .dataframe tbody tr th {\n",
       "        vertical-align: top;\n",
       "    }\n",
       "\n",
       "    .dataframe thead th {\n",
       "        text-align: right;\n",
       "    }\n",
       "</style>\n",
       "<table border=\"1\" class=\"dataframe\">\n",
       "  <thead>\n",
       "    <tr style=\"text-align: right;\">\n",
       "      <th></th>\n",
       "      <th>business_id</th>\n",
       "      <th>cool</th>\n",
       "      <th>date</th>\n",
       "      <th>funny</th>\n",
       "      <th>review_id</th>\n",
       "      <th>stars</th>\n",
       "      <th>text</th>\n",
       "      <th>useful</th>\n",
       "      <th>user_id</th>\n",
       "    </tr>\n",
       "  </thead>\n",
       "  <tbody>\n",
       "    <tr>\n",
       "      <th>0</th>\n",
       "      <td>HQl28KMwrEKHqhFrrDqVNQ</td>\n",
       "      <td>0</td>\n",
       "      <td>2015-12-05 03:18:11</td>\n",
       "      <td>0</td>\n",
       "      <td>LG2ZaYiOgpr2DK_90pYjNw</td>\n",
       "      <td>5</td>\n",
       "      <td>I love Deagan's. I do. I really do. The atmosp...</td>\n",
       "      <td>1</td>\n",
       "      <td>V34qejxNsCbcgD8C0HVk-Q</td>\n",
       "    </tr>\n",
       "    <tr>\n",
       "      <th>1</th>\n",
       "      <td>ZlCSsWS07JulSBIQlrbF5w</td>\n",
       "      <td>0</td>\n",
       "      <td>2015-05-26 10:36:47</td>\n",
       "      <td>0</td>\n",
       "      <td>qWHp2l2lysENZObh6MAulA</td>\n",
       "      <td>5</td>\n",
       "      <td>Called for a 5:15 morning reservation. The dri...</td>\n",
       "      <td>1</td>\n",
       "      <td>5lb0POg2t-AkMFx6603cYQ</td>\n",
       "    </tr>\n",
       "  </tbody>\n",
       "</table>\n",
       "</div>"
      ],
      "text/plain": [
       "              business_id  cool                date  funny  \\\n",
       "0  HQl28KMwrEKHqhFrrDqVNQ     0 2015-12-05 03:18:11      0   \n",
       "1  ZlCSsWS07JulSBIQlrbF5w     0 2015-05-26 10:36:47      0   \n",
       "\n",
       "                review_id  stars  \\\n",
       "0  LG2ZaYiOgpr2DK_90pYjNw      5   \n",
       "1  qWHp2l2lysENZObh6MAulA      5   \n",
       "\n",
       "                                                text  useful  \\\n",
       "0  I love Deagan's. I do. I really do. The atmosp...       1   \n",
       "1  Called for a 5:15 morning reservation. The dri...       1   \n",
       "\n",
       "                  user_id  \n",
       "0  V34qejxNsCbcgD8C0HVk-Q  \n",
       "1  5lb0POg2t-AkMFx6603cYQ  "
      ]
     },
     "execution_count": 59,
     "metadata": {},
     "output_type": "execute_result"
    }
   ],
   "source": [
    "review.head(2)"
   ]
  },
  {
   "cell_type": "code",
   "execution_count": 123,
   "metadata": {},
   "outputs": [
    {
     "data": {
      "text/plain": [
       "address            0\n",
       "attributes      4678\n",
       "business_id        0\n",
       "categories        95\n",
       "city               0\n",
       "hours           7859\n",
       "is_open            0\n",
       "latitude           0\n",
       "longitude          0\n",
       "name               0\n",
       "postal_code        0\n",
       "review_count       0\n",
       "stars              0\n",
       "state              0\n",
       "dtype: int64"
      ]
     },
     "execution_count": 123,
     "metadata": {},
     "output_type": "execute_result"
    }
   ],
   "source": [
    "business.isnull().sum()"
   ]
  },
  {
   "cell_type": "code",
   "execution_count": 62,
   "metadata": {},
   "outputs": [
    {
     "data": {
      "text/plain": [
       "business_id    0\n",
       "cool           0\n",
       "date           0\n",
       "funny          0\n",
       "review_id      0\n",
       "stars          0\n",
       "text           0\n",
       "useful         0\n",
       "user_id        0\n",
       "dtype: int64"
      ]
     },
     "execution_count": 62,
     "metadata": {},
     "output_type": "execute_result"
    }
   ],
   "source": [
    "review.isnull().sum()"
   ]
  },
  {
   "cell_type": "code",
   "execution_count": 124,
   "metadata": {},
   "outputs": [],
   "source": [
    "# Merge the business dataset and review dataset\n",
    "data = pd.merge(review,business,left_on='business_id',right_on='business_id')"
   ]
  },
  {
   "cell_type": "code",
   "execution_count": 125,
   "metadata": {},
   "outputs": [
    {
     "data": {
      "text/html": [
       "<div>\n",
       "<style scoped>\n",
       "    .dataframe tbody tr th:only-of-type {\n",
       "        vertical-align: middle;\n",
       "    }\n",
       "\n",
       "    .dataframe tbody tr th {\n",
       "        vertical-align: top;\n",
       "    }\n",
       "\n",
       "    .dataframe thead th {\n",
       "        text-align: right;\n",
       "    }\n",
       "</style>\n",
       "<table border=\"1\" class=\"dataframe\">\n",
       "  <thead>\n",
       "    <tr style=\"text-align: right;\">\n",
       "      <th></th>\n",
       "      <th>business_id</th>\n",
       "      <th>cool</th>\n",
       "      <th>date</th>\n",
       "      <th>funny</th>\n",
       "      <th>review_id</th>\n",
       "      <th>stars_x</th>\n",
       "      <th>text</th>\n",
       "      <th>useful</th>\n",
       "      <th>user_id</th>\n",
       "      <th>address</th>\n",
       "      <th>...</th>\n",
       "      <th>city</th>\n",
       "      <th>hours</th>\n",
       "      <th>is_open</th>\n",
       "      <th>latitude</th>\n",
       "      <th>longitude</th>\n",
       "      <th>name</th>\n",
       "      <th>postal_code</th>\n",
       "      <th>review_count</th>\n",
       "      <th>stars_y</th>\n",
       "      <th>state</th>\n",
       "    </tr>\n",
       "  </thead>\n",
       "  <tbody>\n",
       "    <tr>\n",
       "      <th>0</th>\n",
       "      <td>HQl28KMwrEKHqhFrrDqVNQ</td>\n",
       "      <td>0</td>\n",
       "      <td>2015-12-05 03:18:11</td>\n",
       "      <td>0</td>\n",
       "      <td>LG2ZaYiOgpr2DK_90pYjNw</td>\n",
       "      <td>5</td>\n",
       "      <td>I love Deagan's. I do. I really do. The atmosp...</td>\n",
       "      <td>1</td>\n",
       "      <td>V34qejxNsCbcgD8C0HVk-Q</td>\n",
       "      <td>14810 Detroit Ave</td>\n",
       "      <td>...</td>\n",
       "      <td>Lakewood</td>\n",
       "      <td>{'Tuesday': '11:0-22:0', 'Wednesday': '11:0-22...</td>\n",
       "      <td>1</td>\n",
       "      <td>41.485192</td>\n",
       "      <td>-81.800145</td>\n",
       "      <td>Deagan's Kitchen &amp; Bar</td>\n",
       "      <td>44107</td>\n",
       "      <td>417</td>\n",
       "      <td>4.0</td>\n",
       "      <td>OH</td>\n",
       "    </tr>\n",
       "    <tr>\n",
       "      <th>1</th>\n",
       "      <td>HQl28KMwrEKHqhFrrDqVNQ</td>\n",
       "      <td>5</td>\n",
       "      <td>2011-08-25 04:24:23</td>\n",
       "      <td>2</td>\n",
       "      <td>4jMOeTiqNXQ8bpmFdWoFUQ</td>\n",
       "      <td>5</td>\n",
       "      <td>We walked into Melt. \"Did you want to put your...</td>\n",
       "      <td>6</td>\n",
       "      <td>zFCuveEe6M-ijY1iy23IJg</td>\n",
       "      <td>14810 Detroit Ave</td>\n",
       "      <td>...</td>\n",
       "      <td>Lakewood</td>\n",
       "      <td>{'Tuesday': '11:0-22:0', 'Wednesday': '11:0-22...</td>\n",
       "      <td>1</td>\n",
       "      <td>41.485192</td>\n",
       "      <td>-81.800145</td>\n",
       "      <td>Deagan's Kitchen &amp; Bar</td>\n",
       "      <td>44107</td>\n",
       "      <td>417</td>\n",
       "      <td>4.0</td>\n",
       "      <td>OH</td>\n",
       "    </tr>\n",
       "    <tr>\n",
       "      <th>2</th>\n",
       "      <td>HQl28KMwrEKHqhFrrDqVNQ</td>\n",
       "      <td>0</td>\n",
       "      <td>2015-03-04 20:37:43</td>\n",
       "      <td>0</td>\n",
       "      <td>wHrtQRyk0ypungXd6hT8nQ</td>\n",
       "      <td>1</td>\n",
       "      <td>I commented on how slow the service was last A...</td>\n",
       "      <td>1</td>\n",
       "      <td>4V985R3RG-rv0B7WCPQzeQ</td>\n",
       "      <td>14810 Detroit Ave</td>\n",
       "      <td>...</td>\n",
       "      <td>Lakewood</td>\n",
       "      <td>{'Tuesday': '11:0-22:0', 'Wednesday': '11:0-22...</td>\n",
       "      <td>1</td>\n",
       "      <td>41.485192</td>\n",
       "      <td>-81.800145</td>\n",
       "      <td>Deagan's Kitchen &amp; Bar</td>\n",
       "      <td>44107</td>\n",
       "      <td>417</td>\n",
       "      <td>4.0</td>\n",
       "      <td>OH</td>\n",
       "    </tr>\n",
       "    <tr>\n",
       "      <th>3</th>\n",
       "      <td>HQl28KMwrEKHqhFrrDqVNQ</td>\n",
       "      <td>0</td>\n",
       "      <td>2014-09-10 01:38:55</td>\n",
       "      <td>0</td>\n",
       "      <td>DTb3X5aVOGQ8HHCSAr87wA</td>\n",
       "      <td>4</td>\n",
       "      <td>We walked in off the streets on a September ni...</td>\n",
       "      <td>2</td>\n",
       "      <td>nFGcoL6wuPQzxsNJVSfGrA</td>\n",
       "      <td>14810 Detroit Ave</td>\n",
       "      <td>...</td>\n",
       "      <td>Lakewood</td>\n",
       "      <td>{'Tuesday': '11:0-22:0', 'Wednesday': '11:0-22...</td>\n",
       "      <td>1</td>\n",
       "      <td>41.485192</td>\n",
       "      <td>-81.800145</td>\n",
       "      <td>Deagan's Kitchen &amp; Bar</td>\n",
       "      <td>44107</td>\n",
       "      <td>417</td>\n",
       "      <td>4.0</td>\n",
       "      <td>OH</td>\n",
       "    </tr>\n",
       "    <tr>\n",
       "      <th>4</th>\n",
       "      <td>HQl28KMwrEKHqhFrrDqVNQ</td>\n",
       "      <td>0</td>\n",
       "      <td>2018-01-21 18:50:29</td>\n",
       "      <td>0</td>\n",
       "      <td>NPyAutqgU_zIZBSnycJd6w</td>\n",
       "      <td>4</td>\n",
       "      <td>Brunch on Saturday was excellent. The Bloody M...</td>\n",
       "      <td>0</td>\n",
       "      <td>CJqgUQeWhdgbDyLAFy7xvQ</td>\n",
       "      <td>14810 Detroit Ave</td>\n",
       "      <td>...</td>\n",
       "      <td>Lakewood</td>\n",
       "      <td>{'Tuesday': '11:0-22:0', 'Wednesday': '11:0-22...</td>\n",
       "      <td>1</td>\n",
       "      <td>41.485192</td>\n",
       "      <td>-81.800145</td>\n",
       "      <td>Deagan's Kitchen &amp; Bar</td>\n",
       "      <td>44107</td>\n",
       "      <td>417</td>\n",
       "      <td>4.0</td>\n",
       "      <td>OH</td>\n",
       "    </tr>\n",
       "  </tbody>\n",
       "</table>\n",
       "<p>5 rows × 22 columns</p>\n",
       "</div>"
      ],
      "text/plain": [
       "              business_id  cool                date  funny  \\\n",
       "0  HQl28KMwrEKHqhFrrDqVNQ     0 2015-12-05 03:18:11      0   \n",
       "1  HQl28KMwrEKHqhFrrDqVNQ     5 2011-08-25 04:24:23      2   \n",
       "2  HQl28KMwrEKHqhFrrDqVNQ     0 2015-03-04 20:37:43      0   \n",
       "3  HQl28KMwrEKHqhFrrDqVNQ     0 2014-09-10 01:38:55      0   \n",
       "4  HQl28KMwrEKHqhFrrDqVNQ     0 2018-01-21 18:50:29      0   \n",
       "\n",
       "                review_id  stars_x  \\\n",
       "0  LG2ZaYiOgpr2DK_90pYjNw        5   \n",
       "1  4jMOeTiqNXQ8bpmFdWoFUQ        5   \n",
       "2  wHrtQRyk0ypungXd6hT8nQ        1   \n",
       "3  DTb3X5aVOGQ8HHCSAr87wA        4   \n",
       "4  NPyAutqgU_zIZBSnycJd6w        4   \n",
       "\n",
       "                                                text  useful  \\\n",
       "0  I love Deagan's. I do. I really do. The atmosp...       1   \n",
       "1  We walked into Melt. \"Did you want to put your...       6   \n",
       "2  I commented on how slow the service was last A...       1   \n",
       "3  We walked in off the streets on a September ni...       2   \n",
       "4  Brunch on Saturday was excellent. The Bloody M...       0   \n",
       "\n",
       "                  user_id            address  ...      city  \\\n",
       "0  V34qejxNsCbcgD8C0HVk-Q  14810 Detroit Ave  ...  Lakewood   \n",
       "1  zFCuveEe6M-ijY1iy23IJg  14810 Detroit Ave  ...  Lakewood   \n",
       "2  4V985R3RG-rv0B7WCPQzeQ  14810 Detroit Ave  ...  Lakewood   \n",
       "3  nFGcoL6wuPQzxsNJVSfGrA  14810 Detroit Ave  ...  Lakewood   \n",
       "4  CJqgUQeWhdgbDyLAFy7xvQ  14810 Detroit Ave  ...  Lakewood   \n",
       "\n",
       "                                               hours is_open   latitude  \\\n",
       "0  {'Tuesday': '11:0-22:0', 'Wednesday': '11:0-22...       1  41.485192   \n",
       "1  {'Tuesday': '11:0-22:0', 'Wednesday': '11:0-22...       1  41.485192   \n",
       "2  {'Tuesday': '11:0-22:0', 'Wednesday': '11:0-22...       1  41.485192   \n",
       "3  {'Tuesday': '11:0-22:0', 'Wednesday': '11:0-22...       1  41.485192   \n",
       "4  {'Tuesday': '11:0-22:0', 'Wednesday': '11:0-22...       1  41.485192   \n",
       "\n",
       "   longitude                    name  postal_code review_count stars_y  state  \n",
       "0 -81.800145  Deagan's Kitchen & Bar        44107          417     4.0     OH  \n",
       "1 -81.800145  Deagan's Kitchen & Bar        44107          417     4.0     OH  \n",
       "2 -81.800145  Deagan's Kitchen & Bar        44107          417     4.0     OH  \n",
       "3 -81.800145  Deagan's Kitchen & Bar        44107          417     4.0     OH  \n",
       "4 -81.800145  Deagan's Kitchen & Bar        44107          417     4.0     OH  \n",
       "\n",
       "[5 rows x 22 columns]"
      ]
     },
     "execution_count": 125,
     "metadata": {},
     "output_type": "execute_result"
    }
   ],
   "source": [
    "data.head()"
   ]
  },
  {
   "cell_type": "code",
   "execution_count": 126,
   "metadata": {},
   "outputs": [
    {
     "data": {
      "text/plain": [
       "business_id         0\n",
       "cool                0\n",
       "date                0\n",
       "funny               0\n",
       "review_id           0\n",
       "stars_x             0\n",
       "text                0\n",
       "useful              0\n",
       "user_id             0\n",
       "address             0\n",
       "attributes      29210\n",
       "categories        333\n",
       "city                0\n",
       "hours           75404\n",
       "is_open             0\n",
       "latitude            0\n",
       "longitude           0\n",
       "name                0\n",
       "postal_code         0\n",
       "review_count        0\n",
       "stars_y             0\n",
       "state               0\n",
       "dtype: int64"
      ]
     },
     "execution_count": 126,
     "metadata": {},
     "output_type": "execute_result"
    }
   ],
   "source": [
    "data.isnull().sum()"
   ]
  },
  {
   "cell_type": "code",
   "execution_count": 142,
   "metadata": {},
   "outputs": [
    {
     "data": {
      "text/plain": [
       "\"Awesome dessert spot! Staff is always helpful and the waffles speak for themselves. If you're here debating on going: get in your car and drive yourself here for some waffles already!\""
      ]
     },
     "execution_count": 142,
     "metadata": {},
     "output_type": "execute_result"
    }
   ],
   "source": [
    "data.loc[15000,'text']"
   ]
  },
  {
   "cell_type": "code",
   "execution_count": 133,
   "metadata": {},
   "outputs": [],
   "source": [
    "data = data[-data['categories'].isnull()]"
   ]
  },
  {
   "cell_type": "code",
   "execution_count": 143,
   "metadata": {},
   "outputs": [
    {
     "data": {
      "text/plain": [
       "(36118, 22)"
      ]
     },
     "execution_count": 143,
     "metadata": {},
     "output_type": "execute_result"
    }
   ],
   "source": [
    "# Filter the data whose business contain desserts\n",
    "filt = filter(lambda x: True if 'desserts' in data.loc[x,'categories'].lower() else False, data.index.values)\n",
    "dessert = data.loc[list(filt),:]\n",
    "dessert.shape"
   ]
  },
  {
   "cell_type": "code",
   "execution_count": 145,
   "metadata": {},
   "outputs": [
    {
     "data": {
      "text/plain": [
       "Index(['business_id', 'cool', 'date', 'funny', 'review_id', 'stars_x', 'text',\n",
       "       'useful', 'user_id', 'address', 'attributes', 'categories', 'city',\n",
       "       'hours', 'is_open', 'latitude', 'longitude', 'name', 'postal_code',\n",
       "       'review_count', 'stars_y', 'state'],\n",
       "      dtype='object')"
      ]
     },
     "execution_count": 145,
     "metadata": {},
     "output_type": "execute_result"
    }
   ],
   "source": [
    "dessert.columns"
   ]
  },
  {
   "cell_type": "code",
   "execution_count": 149,
   "metadata": {},
   "outputs": [
    {
     "data": {
      "text/html": [
       "<div>\n",
       "<style scoped>\n",
       "    .dataframe tbody tr th:only-of-type {\n",
       "        vertical-align: middle;\n",
       "    }\n",
       "\n",
       "    .dataframe tbody tr th {\n",
       "        vertical-align: top;\n",
       "    }\n",
       "\n",
       "    .dataframe thead th {\n",
       "        text-align: right;\n",
       "    }\n",
       "</style>\n",
       "<table border=\"1\" class=\"dataframe\">\n",
       "  <thead>\n",
       "    <tr style=\"text-align: right;\">\n",
       "      <th></th>\n",
       "      <th>business_id</th>\n",
       "      <th>review_id</th>\n",
       "      <th>stars_x</th>\n",
       "      <th>text</th>\n",
       "      <th>user_id</th>\n",
       "      <th>attributes</th>\n",
       "      <th>categories</th>\n",
       "      <th>city</th>\n",
       "      <th>name</th>\n",
       "      <th>review_count</th>\n",
       "      <th>stars_y</th>\n",
       "      <th>state</th>\n",
       "    </tr>\n",
       "  </thead>\n",
       "  <tbody>\n",
       "    <tr>\n",
       "      <th>4908</th>\n",
       "      <td>lpel3pRFAzlow7u2TJMz4Q</td>\n",
       "      <td>EDQpLLFiAxeSxWI5ipwzBQ</td>\n",
       "      <td>4</td>\n",
       "      <td>The server had an extensive knowledge of wines...</td>\n",
       "      <td>SkueY7hVsyXmYItELoodGw</td>\n",
       "      <td>{'HasTV': 'True', 'Alcohol': 'u'full_bar'', 'B...</td>\n",
       "      <td>Food, Tapas/Small Plates, Vegan, Desserts, Res...</td>\n",
       "      <td>Lakewood</td>\n",
       "      <td>Humble Wine Bar</td>\n",
       "      <td>153</td>\n",
       "      <td>4.0</td>\n",
       "      <td>OH</td>\n",
       "    </tr>\n",
       "    <tr>\n",
       "      <th>4909</th>\n",
       "      <td>lpel3pRFAzlow7u2TJMz4Q</td>\n",
       "      <td>c4_BcnjSLtBuF_3O4JNnfA</td>\n",
       "      <td>5</td>\n",
       "      <td>If you come on a Friday or Saturday after 6 or...</td>\n",
       "      <td>mXQjS9WLNzHlb8R45VinIw</td>\n",
       "      <td>{'HasTV': 'True', 'Alcohol': 'u'full_bar'', 'B...</td>\n",
       "      <td>Food, Tapas/Small Plates, Vegan, Desserts, Res...</td>\n",
       "      <td>Lakewood</td>\n",
       "      <td>Humble Wine Bar</td>\n",
       "      <td>153</td>\n",
       "      <td>4.0</td>\n",
       "      <td>OH</td>\n",
       "    </tr>\n",
       "    <tr>\n",
       "      <th>4910</th>\n",
       "      <td>lpel3pRFAzlow7u2TJMz4Q</td>\n",
       "      <td>x4OI8tEvVEnNDyZgQeE-IA</td>\n",
       "      <td>5</td>\n",
       "      <td>Where Humble may have fallen short for other Y...</td>\n",
       "      <td>NfU0zDaTMEQ4-X9dbQWd9A</td>\n",
       "      <td>{'HasTV': 'True', 'Alcohol': 'u'full_bar'', 'B...</td>\n",
       "      <td>Food, Tapas/Small Plates, Vegan, Desserts, Res...</td>\n",
       "      <td>Lakewood</td>\n",
       "      <td>Humble Wine Bar</td>\n",
       "      <td>153</td>\n",
       "      <td>4.0</td>\n",
       "      <td>OH</td>\n",
       "    </tr>\n",
       "    <tr>\n",
       "      <th>4911</th>\n",
       "      <td>lpel3pRFAzlow7u2TJMz4Q</td>\n",
       "      <td>QTFqdSSoFD-aNHL_bhK8_A</td>\n",
       "      <td>5</td>\n",
       "      <td>I absolutely knew I would love this wine bar f...</td>\n",
       "      <td>iqrrTyAO0NABo18XBNJbNA</td>\n",
       "      <td>{'HasTV': 'True', 'Alcohol': 'u'full_bar'', 'B...</td>\n",
       "      <td>Food, Tapas/Small Plates, Vegan, Desserts, Res...</td>\n",
       "      <td>Lakewood</td>\n",
       "      <td>Humble Wine Bar</td>\n",
       "      <td>153</td>\n",
       "      <td>4.0</td>\n",
       "      <td>OH</td>\n",
       "    </tr>\n",
       "    <tr>\n",
       "      <th>4912</th>\n",
       "      <td>lpel3pRFAzlow7u2TJMz4Q</td>\n",
       "      <td>5dmfqkT8CSKO81UuXFGI4A</td>\n",
       "      <td>5</td>\n",
       "      <td>I first visited Humble with my girlfriends sho...</td>\n",
       "      <td>Hp7XX4n76TdAKsIH9JUxJw</td>\n",
       "      <td>{'HasTV': 'True', 'Alcohol': 'u'full_bar'', 'B...</td>\n",
       "      <td>Food, Tapas/Small Plates, Vegan, Desserts, Res...</td>\n",
       "      <td>Lakewood</td>\n",
       "      <td>Humble Wine Bar</td>\n",
       "      <td>153</td>\n",
       "      <td>4.0</td>\n",
       "      <td>OH</td>\n",
       "    </tr>\n",
       "  </tbody>\n",
       "</table>\n",
       "</div>"
      ],
      "text/plain": [
       "                 business_id               review_id  stars_x  \\\n",
       "4908  lpel3pRFAzlow7u2TJMz4Q  EDQpLLFiAxeSxWI5ipwzBQ        4   \n",
       "4909  lpel3pRFAzlow7u2TJMz4Q  c4_BcnjSLtBuF_3O4JNnfA        5   \n",
       "4910  lpel3pRFAzlow7u2TJMz4Q  x4OI8tEvVEnNDyZgQeE-IA        5   \n",
       "4911  lpel3pRFAzlow7u2TJMz4Q  QTFqdSSoFD-aNHL_bhK8_A        5   \n",
       "4912  lpel3pRFAzlow7u2TJMz4Q  5dmfqkT8CSKO81UuXFGI4A        5   \n",
       "\n",
       "                                                   text  \\\n",
       "4908  The server had an extensive knowledge of wines...   \n",
       "4909  If you come on a Friday or Saturday after 6 or...   \n",
       "4910  Where Humble may have fallen short for other Y...   \n",
       "4911  I absolutely knew I would love this wine bar f...   \n",
       "4912  I first visited Humble with my girlfriends sho...   \n",
       "\n",
       "                     user_id  \\\n",
       "4908  SkueY7hVsyXmYItELoodGw   \n",
       "4909  mXQjS9WLNzHlb8R45VinIw   \n",
       "4910  NfU0zDaTMEQ4-X9dbQWd9A   \n",
       "4911  iqrrTyAO0NABo18XBNJbNA   \n",
       "4912  Hp7XX4n76TdAKsIH9JUxJw   \n",
       "\n",
       "                                             attributes  \\\n",
       "4908  {'HasTV': 'True', 'Alcohol': 'u'full_bar'', 'B...   \n",
       "4909  {'HasTV': 'True', 'Alcohol': 'u'full_bar'', 'B...   \n",
       "4910  {'HasTV': 'True', 'Alcohol': 'u'full_bar'', 'B...   \n",
       "4911  {'HasTV': 'True', 'Alcohol': 'u'full_bar'', 'B...   \n",
       "4912  {'HasTV': 'True', 'Alcohol': 'u'full_bar'', 'B...   \n",
       "\n",
       "                                             categories      city  \\\n",
       "4908  Food, Tapas/Small Plates, Vegan, Desserts, Res...  Lakewood   \n",
       "4909  Food, Tapas/Small Plates, Vegan, Desserts, Res...  Lakewood   \n",
       "4910  Food, Tapas/Small Plates, Vegan, Desserts, Res...  Lakewood   \n",
       "4911  Food, Tapas/Small Plates, Vegan, Desserts, Res...  Lakewood   \n",
       "4912  Food, Tapas/Small Plates, Vegan, Desserts, Res...  Lakewood   \n",
       "\n",
       "                 name  review_count  stars_y state  \n",
       "4908  Humble Wine Bar           153      4.0    OH  \n",
       "4909  Humble Wine Bar           153      4.0    OH  \n",
       "4910  Humble Wine Bar           153      4.0    OH  \n",
       "4911  Humble Wine Bar           153      4.0    OH  \n",
       "4912  Humble Wine Bar           153      4.0    OH  "
      ]
     },
     "execution_count": 149,
     "metadata": {},
     "output_type": "execute_result"
    }
   ],
   "source": [
    "# Drop useless attributes\n",
    "dessert_clean = dessert.drop(['cool','date','funny','useful','address','postal_code','is_open','hours','latitude','longitude'],axis = 1)\n",
    "dessert_clean.head()"
   ]
  },
  {
   "cell_type": "code",
   "execution_count": 150,
   "metadata": {},
   "outputs": [],
   "source": [
    "dessert_clean.to_csv('dessert.csv')"
   ]
  },
  {
   "cell_type": "code",
   "execution_count": 171,
   "metadata": {},
   "outputs": [],
   "source": [
    "# Make comments to lowercase\n",
    "comment = list(dessert_clean.text)\n",
    "comment = [i.lower() for i in comment]"
   ]
  },
  {
   "cell_type": "code",
   "execution_count": 176,
   "metadata": {},
   "outputs": [],
   "source": [
    "# Remove all punctuations for the comments\n",
    "import string\n",
    "\n",
    "remove = str.maketrans('','',string.punctuation)\n",
    "without_punctuation = [i.translate(remove) for i in comment]"
   ]
  },
  {
   "cell_type": "code",
   "execution_count": 178,
   "metadata": {},
   "outputs": [],
   "source": [
    "# Tokenize\n",
    "import nltk\n",
    "# nltk.download('punkt')\n",
    "\n",
    "tokenize = [nltk.word_tokenize(i) for i in without_punctuation]"
   ]
  },
  {
   "cell_type": "code",
   "execution_count": 188,
   "metadata": {},
   "outputs": [],
   "source": [
    "# Remove stopwords\n",
    "# nltk.download('stopwords')\n",
    "from nltk.corpus import stopwords\n",
    "\n",
    "stop = set(stopwords.words('english')) \n",
    "words = [[i for i in j if i not in stop] for j in tokenize]"
   ]
  },
  {
   "cell_type": "code",
   "execution_count": 191,
   "metadata": {},
   "outputs": [],
   "source": [
    "# Stemming\n",
    "#from nltk.stem.porter import PorterStemmer\n",
    "\n",
    "#porter = PorterStemmer()\n",
    "#stemmed = [[porter.stem(i) for i in j] for j in words]"
   ]
  },
  {
   "cell_type": "code",
   "execution_count": 198,
   "metadata": {},
   "outputs": [],
   "source": [
    "# Lemmatization\n",
    "from nltk.stem.wordnet import WordNetLemmatizer\n",
    "# nltk.download('wordnet')\n",
    "\n",
    "lem = WordNetLemmatizer()\n",
    "lemmed = [[lem.lemmatize(i) for i in j] for j in words]"
   ]
  },
  {
   "cell_type": "code",
   "execution_count": 211,
   "metadata": {},
   "outputs": [],
   "source": [
    "dessert_clean['text'] = lemmed\n",
    "dessert_clean.reset_index(drop=True, inplace=True)"
   ]
  },
  {
   "cell_type": "code",
   "execution_count": 210,
   "metadata": {},
   "outputs": [
    {
     "data": {
      "text/html": [
       "<div>\n",
       "<style scoped>\n",
       "    .dataframe tbody tr th:only-of-type {\n",
       "        vertical-align: middle;\n",
       "    }\n",
       "\n",
       "    .dataframe tbody tr th {\n",
       "        vertical-align: top;\n",
       "    }\n",
       "\n",
       "    .dataframe thead th {\n",
       "        text-align: right;\n",
       "    }\n",
       "</style>\n",
       "<table border=\"1\" class=\"dataframe\">\n",
       "  <thead>\n",
       "    <tr style=\"text-align: right;\">\n",
       "      <th></th>\n",
       "      <th>business_id</th>\n",
       "      <th>review_id</th>\n",
       "      <th>stars_x</th>\n",
       "      <th>text</th>\n",
       "      <th>user_id</th>\n",
       "      <th>attributes</th>\n",
       "      <th>categories</th>\n",
       "      <th>city</th>\n",
       "      <th>name</th>\n",
       "      <th>review_count</th>\n",
       "      <th>stars_y</th>\n",
       "      <th>state</th>\n",
       "    </tr>\n",
       "  </thead>\n",
       "  <tbody>\n",
       "    <tr>\n",
       "      <th>0</th>\n",
       "      <td>lpel3pRFAzlow7u2TJMz4Q</td>\n",
       "      <td>EDQpLLFiAxeSxWI5ipwzBQ</td>\n",
       "      <td>4</td>\n",
       "      <td>[server, extensive, knowledge, wine, various, ...</td>\n",
       "      <td>SkueY7hVsyXmYItELoodGw</td>\n",
       "      <td>{'HasTV': 'True', 'Alcohol': 'u'full_bar'', 'B...</td>\n",
       "      <td>Food, Tapas/Small Plates, Vegan, Desserts, Res...</td>\n",
       "      <td>Lakewood</td>\n",
       "      <td>Humble Wine Bar</td>\n",
       "      <td>153</td>\n",
       "      <td>4.0</td>\n",
       "      <td>OH</td>\n",
       "    </tr>\n",
       "    <tr>\n",
       "      <th>1</th>\n",
       "      <td>lpel3pRFAzlow7u2TJMz4Q</td>\n",
       "      <td>c4_BcnjSLtBuF_3O4JNnfA</td>\n",
       "      <td>5</td>\n",
       "      <td>[come, friday, saturday, 6, 7pm, expect, bit, ...</td>\n",
       "      <td>mXQjS9WLNzHlb8R45VinIw</td>\n",
       "      <td>{'HasTV': 'True', 'Alcohol': 'u'full_bar'', 'B...</td>\n",
       "      <td>Food, Tapas/Small Plates, Vegan, Desserts, Res...</td>\n",
       "      <td>Lakewood</td>\n",
       "      <td>Humble Wine Bar</td>\n",
       "      <td>153</td>\n",
       "      <td>4.0</td>\n",
       "      <td>OH</td>\n",
       "    </tr>\n",
       "    <tr>\n",
       "      <th>2</th>\n",
       "      <td>lpel3pRFAzlow7u2TJMz4Q</td>\n",
       "      <td>x4OI8tEvVEnNDyZgQeE-IA</td>\n",
       "      <td>5</td>\n",
       "      <td>[humble, may, fallen, short, yelpers, past, su...</td>\n",
       "      <td>NfU0zDaTMEQ4-X9dbQWd9A</td>\n",
       "      <td>{'HasTV': 'True', 'Alcohol': 'u'full_bar'', 'B...</td>\n",
       "      <td>Food, Tapas/Small Plates, Vegan, Desserts, Res...</td>\n",
       "      <td>Lakewood</td>\n",
       "      <td>Humble Wine Bar</td>\n",
       "      <td>153</td>\n",
       "      <td>4.0</td>\n",
       "      <td>OH</td>\n",
       "    </tr>\n",
       "    <tr>\n",
       "      <th>3</th>\n",
       "      <td>lpel3pRFAzlow7u2TJMz4Q</td>\n",
       "      <td>QTFqdSSoFD-aNHL_bhK8_A</td>\n",
       "      <td>5</td>\n",
       "      <td>[absolutely, knew, would, love, wine, bar, mom...</td>\n",
       "      <td>iqrrTyAO0NABo18XBNJbNA</td>\n",
       "      <td>{'HasTV': 'True', 'Alcohol': 'u'full_bar'', 'B...</td>\n",
       "      <td>Food, Tapas/Small Plates, Vegan, Desserts, Res...</td>\n",
       "      <td>Lakewood</td>\n",
       "      <td>Humble Wine Bar</td>\n",
       "      <td>153</td>\n",
       "      <td>4.0</td>\n",
       "      <td>OH</td>\n",
       "    </tr>\n",
       "    <tr>\n",
       "      <th>4</th>\n",
       "      <td>lpel3pRFAzlow7u2TJMz4Q</td>\n",
       "      <td>5dmfqkT8CSKO81UuXFGI4A</td>\n",
       "      <td>5</td>\n",
       "      <td>[first, visited, humble, girlfriend, shortly, ...</td>\n",
       "      <td>Hp7XX4n76TdAKsIH9JUxJw</td>\n",
       "      <td>{'HasTV': 'True', 'Alcohol': 'u'full_bar'', 'B...</td>\n",
       "      <td>Food, Tapas/Small Plates, Vegan, Desserts, Res...</td>\n",
       "      <td>Lakewood</td>\n",
       "      <td>Humble Wine Bar</td>\n",
       "      <td>153</td>\n",
       "      <td>4.0</td>\n",
       "      <td>OH</td>\n",
       "    </tr>\n",
       "  </tbody>\n",
       "</table>\n",
       "</div>"
      ],
      "text/plain": [
       "              business_id               review_id  stars_x  \\\n",
       "0  lpel3pRFAzlow7u2TJMz4Q  EDQpLLFiAxeSxWI5ipwzBQ        4   \n",
       "1  lpel3pRFAzlow7u2TJMz4Q  c4_BcnjSLtBuF_3O4JNnfA        5   \n",
       "2  lpel3pRFAzlow7u2TJMz4Q  x4OI8tEvVEnNDyZgQeE-IA        5   \n",
       "3  lpel3pRFAzlow7u2TJMz4Q  QTFqdSSoFD-aNHL_bhK8_A        5   \n",
       "4  lpel3pRFAzlow7u2TJMz4Q  5dmfqkT8CSKO81UuXFGI4A        5   \n",
       "\n",
       "                                                text                 user_id  \\\n",
       "0  [server, extensive, knowledge, wine, various, ...  SkueY7hVsyXmYItELoodGw   \n",
       "1  [come, friday, saturday, 6, 7pm, expect, bit, ...  mXQjS9WLNzHlb8R45VinIw   \n",
       "2  [humble, may, fallen, short, yelpers, past, su...  NfU0zDaTMEQ4-X9dbQWd9A   \n",
       "3  [absolutely, knew, would, love, wine, bar, mom...  iqrrTyAO0NABo18XBNJbNA   \n",
       "4  [first, visited, humble, girlfriend, shortly, ...  Hp7XX4n76TdAKsIH9JUxJw   \n",
       "\n",
       "                                          attributes  \\\n",
       "0  {'HasTV': 'True', 'Alcohol': 'u'full_bar'', 'B...   \n",
       "1  {'HasTV': 'True', 'Alcohol': 'u'full_bar'', 'B...   \n",
       "2  {'HasTV': 'True', 'Alcohol': 'u'full_bar'', 'B...   \n",
       "3  {'HasTV': 'True', 'Alcohol': 'u'full_bar'', 'B...   \n",
       "4  {'HasTV': 'True', 'Alcohol': 'u'full_bar'', 'B...   \n",
       "\n",
       "                                          categories      city  \\\n",
       "0  Food, Tapas/Small Plates, Vegan, Desserts, Res...  Lakewood   \n",
       "1  Food, Tapas/Small Plates, Vegan, Desserts, Res...  Lakewood   \n",
       "2  Food, Tapas/Small Plates, Vegan, Desserts, Res...  Lakewood   \n",
       "3  Food, Tapas/Small Plates, Vegan, Desserts, Res...  Lakewood   \n",
       "4  Food, Tapas/Small Plates, Vegan, Desserts, Res...  Lakewood   \n",
       "\n",
       "              name  review_count  stars_y state  \n",
       "0  Humble Wine Bar           153      4.0    OH  \n",
       "1  Humble Wine Bar           153      4.0    OH  \n",
       "2  Humble Wine Bar           153      4.0    OH  \n",
       "3  Humble Wine Bar           153      4.0    OH  \n",
       "4  Humble Wine Bar           153      4.0    OH  "
      ]
     },
     "execution_count": 210,
     "metadata": {},
     "output_type": "execute_result"
    }
   ],
   "source": [
    "dessert_clean.head()"
   ]
  },
  {
   "cell_type": "code",
   "execution_count": 212,
   "metadata": {},
   "outputs": [],
   "source": [
    "dessert_clean.to_csv('dessert_clean.csv')"
   ]
  },
  {
   "cell_type": "code",
   "execution_count": 257,
   "metadata": {},
   "outputs": [],
   "source": [
    "alltext = [[i for i in j] for j in dessert_clean['text']]"
   ]
  },
  {
   "cell_type": "code",
   "execution_count": 269,
   "metadata": {},
   "outputs": [],
   "source": [
    "a = []\n",
    "for i in dessert_clean['text']:\n",
    "    for j in i:\n",
    "        a.append(j)"
   ]
  },
  {
   "cell_type": "code",
   "execution_count": 275,
   "metadata": {},
   "outputs": [
    {
     "data": {
      "text/plain": [
       "[('place', 20792),\n",
       " ('good', 20644),\n",
       " ('food', 19132),\n",
       " ('great', 15649),\n",
       " ('time', 13363),\n",
       " ('like', 12895),\n",
       " ('one', 12370),\n",
       " ('get', 11116),\n",
       " ('service', 10699),\n",
       " ('back', 9693),\n",
       " ('really', 9627),\n",
       " ('would', 9597),\n",
       " ('go', 9518),\n",
       " ('also', 9222),\n",
       " ('cream', 8508),\n",
       " ('delicious', 8261),\n",
       " ('got', 7650),\n",
       " ('ordered', 7471),\n",
       " ('ice', 7344),\n",
       " ('flavor', 7309),\n",
       " ('love', 7167),\n",
       " ('restaurant', 6961),\n",
       " ('order', 6893),\n",
       " ('best', 6876),\n",
       " ('ive', 6770),\n",
       " ('try', 6713),\n",
       " ('chocolate', 6597),\n",
       " ('well', 6595),\n",
       " ('cake', 6549),\n",
       " ('nice', 6536)]"
      ]
     },
     "execution_count": 275,
     "metadata": {},
     "output_type": "execute_result"
    }
   ],
   "source": [
    "import collections\n",
    "count = collections.Counter(a)\n",
    "count.most_common(30)"
   ]
  }
 ],
 "metadata": {
  "kernelspec": {
   "display_name": "Python 3",
   "language": "python",
   "name": "python3"
  },
  "language_info": {
   "codemirror_mode": {
    "name": "ipython",
    "version": 3
   },
   "file_extension": ".py",
   "mimetype": "text/x-python",
   "name": "python",
   "nbconvert_exporter": "python",
   "pygments_lexer": "ipython3",
   "version": "3.7.3"
  }
 },
 "nbformat": 4,
 "nbformat_minor": 2
}
