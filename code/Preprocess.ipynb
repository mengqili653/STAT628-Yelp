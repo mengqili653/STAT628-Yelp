{
 "cells": [
  {
   "cell_type": "code",
   "execution_count": 19,
   "metadata": {
    "scrolled": true
   },
   "outputs": [],
   "source": [
    "import pandas as pd\n",
    "import os\n",
    "\n",
    "\n",
    "# Read json files\n",
    "review = pd.read_json('../Data/review_city.json',lines=True)\n",
    "business = pd.read_json('../Data/business_city.json',lines=True)\n",
    "tip = pd.read_json('../Data/tip_city.json',lines=True)\n",
    "user = pd.read_json('../Data/user_city.json',lines=True)\n"
   ]
  },
  {
   "cell_type": "code",
   "execution_count": 20,
   "metadata": {},
   "outputs": [
    {
     "data": {
      "text/plain": [
       "(36327, 14)"
      ]
     },
     "execution_count": 20,
     "metadata": {},
     "output_type": "execute_result"
    }
   ],
   "source": [
    "business.shape"
   ]
  },
  {
   "cell_type": "code",
   "execution_count": 21,
   "metadata": {},
   "outputs": [
    {
     "data": {
      "text/plain": [
       "(36327, 14)"
      ]
     },
     "execution_count": 21,
     "metadata": {},
     "output_type": "execute_result"
    }
   ],
   "source": [
    "business.shape"
   ]
  },
  {
   "cell_type": "code",
   "execution_count": 22,
   "metadata": {},
   "outputs": [
    {
     "data": {
      "text/html": [
       "<div>\n",
       "<style scoped>\n",
       "    .dataframe tbody tr th:only-of-type {\n",
       "        vertical-align: middle;\n",
       "    }\n",
       "\n",
       "    .dataframe tbody tr th {\n",
       "        vertical-align: top;\n",
       "    }\n",
       "\n",
       "    .dataframe thead th {\n",
       "        text-align: right;\n",
       "    }\n",
       "</style>\n",
       "<table border=\"1\" class=\"dataframe\">\n",
       "  <thead>\n",
       "    <tr style=\"text-align: right;\">\n",
       "      <th></th>\n",
       "      <th>business_id</th>\n",
       "      <th>name</th>\n",
       "      <th>address</th>\n",
       "      <th>city</th>\n",
       "      <th>state</th>\n",
       "      <th>postal_code</th>\n",
       "      <th>latitude</th>\n",
       "      <th>longitude</th>\n",
       "      <th>stars</th>\n",
       "      <th>review_count</th>\n",
       "      <th>is_open</th>\n",
       "      <th>attributes</th>\n",
       "      <th>categories</th>\n",
       "      <th>hours</th>\n",
       "    </tr>\n",
       "  </thead>\n",
       "  <tbody>\n",
       "    <tr>\n",
       "      <th>0</th>\n",
       "      <td>pQeaRpvuhoEqudo3uymHIQ</td>\n",
       "      <td>The Empanadas House</td>\n",
       "      <td>404 E Green St</td>\n",
       "      <td>Champaign</td>\n",
       "      <td>IL</td>\n",
       "      <td>61820</td>\n",
       "      <td>40.110446</td>\n",
       "      <td>-88.233073</td>\n",
       "      <td>4.5</td>\n",
       "      <td>5</td>\n",
       "      <td>1</td>\n",
       "      <td>{'RestaurantsAttire': 'u'casual'', 'Restaurant...</td>\n",
       "      <td>Ethnic Food, Food Trucks, Specialty Food, Impo...</td>\n",
       "      <td>{'Monday': '11:30-14:30', 'Tuesday': '11:30-14...</td>\n",
       "    </tr>\n",
       "    <tr>\n",
       "      <th>1</th>\n",
       "      <td>7Dv4_HAxsxvadEsT5fxQBg</td>\n",
       "      <td>Dependable Brakes &amp; Exhaust</td>\n",
       "      <td>1110 Saw Mill Run Blvd</td>\n",
       "      <td>Pittsburgh</td>\n",
       "      <td>PA</td>\n",
       "      <td>15226</td>\n",
       "      <td>40.406667</td>\n",
       "      <td>-80.004450</td>\n",
       "      <td>5.0</td>\n",
       "      <td>5</td>\n",
       "      <td>1</td>\n",
       "      <td>{'BusinessAcceptsCreditCards': 'True'}</td>\n",
       "      <td>Automotive, Auto Repair</td>\n",
       "      <td>{'Monday': '8:0-17:0', 'Tuesday': '8:0-17:0', ...</td>\n",
       "    </tr>\n",
       "  </tbody>\n",
       "</table>\n",
       "</div>"
      ],
      "text/plain": [
       "              business_id                         name  \\\n",
       "0  pQeaRpvuhoEqudo3uymHIQ          The Empanadas House   \n",
       "1  7Dv4_HAxsxvadEsT5fxQBg  Dependable Brakes & Exhaust   \n",
       "\n",
       "                  address        city state postal_code   latitude  longitude  \\\n",
       "0          404 E Green St   Champaign    IL       61820  40.110446 -88.233073   \n",
       "1  1110 Saw Mill Run Blvd  Pittsburgh    PA       15226  40.406667 -80.004450   \n",
       "\n",
       "   stars  review_count  is_open  \\\n",
       "0    4.5             5        1   \n",
       "1    5.0             5        1   \n",
       "\n",
       "                                          attributes  \\\n",
       "0  {'RestaurantsAttire': 'u'casual'', 'Restaurant...   \n",
       "1             {'BusinessAcceptsCreditCards': 'True'}   \n",
       "\n",
       "                                          categories  \\\n",
       "0  Ethnic Food, Food Trucks, Specialty Food, Impo...   \n",
       "1                            Automotive, Auto Repair   \n",
       "\n",
       "                                               hours  \n",
       "0  {'Monday': '11:30-14:30', 'Tuesday': '11:30-14...  \n",
       "1  {'Monday': '8:0-17:0', 'Tuesday': '8:0-17:0', ...  "
      ]
     },
     "execution_count": 22,
     "metadata": {},
     "output_type": "execute_result"
    }
   ],
   "source": [
    "business.head(2)"
   ]
  },
  {
   "cell_type": "code",
   "execution_count": 23,
   "metadata": {},
   "outputs": [
    {
     "data": {
      "text/html": [
       "<div>\n",
       "<style scoped>\n",
       "    .dataframe tbody tr th:only-of-type {\n",
       "        vertical-align: middle;\n",
       "    }\n",
       "\n",
       "    .dataframe tbody tr th {\n",
       "        vertical-align: top;\n",
       "    }\n",
       "\n",
       "    .dataframe thead th {\n",
       "        text-align: right;\n",
       "    }\n",
       "</style>\n",
       "<table border=\"1\" class=\"dataframe\">\n",
       "  <thead>\n",
       "    <tr style=\"text-align: right;\">\n",
       "      <th></th>\n",
       "      <th>review_id</th>\n",
       "      <th>user_id</th>\n",
       "      <th>business_id</th>\n",
       "      <th>stars</th>\n",
       "      <th>useful</th>\n",
       "      <th>funny</th>\n",
       "      <th>cool</th>\n",
       "      <th>text</th>\n",
       "      <th>date</th>\n",
       "    </tr>\n",
       "  </thead>\n",
       "  <tbody>\n",
       "    <tr>\n",
       "      <th>0</th>\n",
       "      <td>LG2ZaYiOgpr2DK_90pYjNw</td>\n",
       "      <td>V34qejxNsCbcgD8C0HVk-Q</td>\n",
       "      <td>HQl28KMwrEKHqhFrrDqVNQ</td>\n",
       "      <td>5</td>\n",
       "      <td>1</td>\n",
       "      <td>0</td>\n",
       "      <td>0</td>\n",
       "      <td>I love Deagan's. I do. I really do. The atmosp...</td>\n",
       "      <td>2015-12-05 03:18:11</td>\n",
       "    </tr>\n",
       "    <tr>\n",
       "      <th>1</th>\n",
       "      <td>qWHp2l2lysENZObh6MAulA</td>\n",
       "      <td>5lb0POg2t-AkMFx6603cYQ</td>\n",
       "      <td>ZlCSsWS07JulSBIQlrbF5w</td>\n",
       "      <td>5</td>\n",
       "      <td>1</td>\n",
       "      <td>0</td>\n",
       "      <td>0</td>\n",
       "      <td>Called for a 5:15 morning reservation. The dri...</td>\n",
       "      <td>2015-05-26 10:36:47</td>\n",
       "    </tr>\n",
       "  </tbody>\n",
       "</table>\n",
       "</div>"
      ],
      "text/plain": [
       "                review_id                 user_id             business_id  \\\n",
       "0  LG2ZaYiOgpr2DK_90pYjNw  V34qejxNsCbcgD8C0HVk-Q  HQl28KMwrEKHqhFrrDqVNQ   \n",
       "1  qWHp2l2lysENZObh6MAulA  5lb0POg2t-AkMFx6603cYQ  ZlCSsWS07JulSBIQlrbF5w   \n",
       "\n",
       "   stars  useful  funny  cool  \\\n",
       "0      5       1      0     0   \n",
       "1      5       1      0     0   \n",
       "\n",
       "                                                text                date  \n",
       "0  I love Deagan's. I do. I really do. The atmosp... 2015-12-05 03:18:11  \n",
       "1  Called for a 5:15 morning reservation. The dri... 2015-05-26 10:36:47  "
      ]
     },
     "execution_count": 23,
     "metadata": {},
     "output_type": "execute_result"
    }
   ],
   "source": [
    "review.head(2)"
   ]
  },
  {
   "cell_type": "code",
   "execution_count": 24,
   "metadata": {},
   "outputs": [
    {
     "data": {
      "text/plain": [
       "business_id        0\n",
       "name               0\n",
       "address            0\n",
       "city               0\n",
       "state              0\n",
       "postal_code        0\n",
       "latitude           0\n",
       "longitude          0\n",
       "stars              0\n",
       "review_count       0\n",
       "is_open            0\n",
       "attributes      4678\n",
       "categories        95\n",
       "hours           7859\n",
       "dtype: int64"
      ]
     },
     "execution_count": 24,
     "metadata": {},
     "output_type": "execute_result"
    }
   ],
   "source": [
    "business.isnull().sum()"
   ]
  },
  {
   "cell_type": "code",
   "execution_count": 25,
   "metadata": {},
   "outputs": [
    {
     "data": {
      "text/plain": [
       "review_id      0\n",
       "user_id        0\n",
       "business_id    0\n",
       "stars          0\n",
       "useful         0\n",
       "funny          0\n",
       "cool           0\n",
       "text           0\n",
       "date           0\n",
       "dtype: int64"
      ]
     },
     "execution_count": 25,
     "metadata": {},
     "output_type": "execute_result"
    }
   ],
   "source": [
    "review.isnull().sum()"
   ]
  },
  {
   "cell_type": "code",
   "execution_count": 26,
   "metadata": {},
   "outputs": [],
   "source": [
    "# Merge the business dataset and review dataset\n",
    "data = pd.merge(review,business,left_on='business_id',right_on='business_id')"
   ]
  },
  {
   "cell_type": "code",
   "execution_count": 27,
   "metadata": {},
   "outputs": [
    {
     "data": {
      "text/html": [
       "<div>\n",
       "<style scoped>\n",
       "    .dataframe tbody tr th:only-of-type {\n",
       "        vertical-align: middle;\n",
       "    }\n",
       "\n",
       "    .dataframe tbody tr th {\n",
       "        vertical-align: top;\n",
       "    }\n",
       "\n",
       "    .dataframe thead th {\n",
       "        text-align: right;\n",
       "    }\n",
       "</style>\n",
       "<table border=\"1\" class=\"dataframe\">\n",
       "  <thead>\n",
       "    <tr style=\"text-align: right;\">\n",
       "      <th></th>\n",
       "      <th>review_id</th>\n",
       "      <th>user_id</th>\n",
       "      <th>business_id</th>\n",
       "      <th>stars_x</th>\n",
       "      <th>useful</th>\n",
       "      <th>funny</th>\n",
       "      <th>cool</th>\n",
       "      <th>text</th>\n",
       "      <th>date</th>\n",
       "      <th>name</th>\n",
       "      <th>...</th>\n",
       "      <th>state</th>\n",
       "      <th>postal_code</th>\n",
       "      <th>latitude</th>\n",
       "      <th>longitude</th>\n",
       "      <th>stars_y</th>\n",
       "      <th>review_count</th>\n",
       "      <th>is_open</th>\n",
       "      <th>attributes</th>\n",
       "      <th>categories</th>\n",
       "      <th>hours</th>\n",
       "    </tr>\n",
       "  </thead>\n",
       "  <tbody>\n",
       "    <tr>\n",
       "      <th>0</th>\n",
       "      <td>LG2ZaYiOgpr2DK_90pYjNw</td>\n",
       "      <td>V34qejxNsCbcgD8C0HVk-Q</td>\n",
       "      <td>HQl28KMwrEKHqhFrrDqVNQ</td>\n",
       "      <td>5</td>\n",
       "      <td>1</td>\n",
       "      <td>0</td>\n",
       "      <td>0</td>\n",
       "      <td>I love Deagan's. I do. I really do. The atmosp...</td>\n",
       "      <td>2015-12-05 03:18:11</td>\n",
       "      <td>Deagan's Kitchen &amp; Bar</td>\n",
       "      <td>...</td>\n",
       "      <td>OH</td>\n",
       "      <td>44107</td>\n",
       "      <td>41.485192</td>\n",
       "      <td>-81.800145</td>\n",
       "      <td>4.0</td>\n",
       "      <td>417</td>\n",
       "      <td>1</td>\n",
       "      <td>{'BusinessAcceptsCreditCards': 'True', 'Outdoo...</td>\n",
       "      <td>Restaurants, Gastropubs, Nightlife, American (...</td>\n",
       "      <td>{'Tuesday': '11:0-22:0', 'Wednesday': '11:0-22...</td>\n",
       "    </tr>\n",
       "    <tr>\n",
       "      <th>1</th>\n",
       "      <td>4jMOeTiqNXQ8bpmFdWoFUQ</td>\n",
       "      <td>zFCuveEe6M-ijY1iy23IJg</td>\n",
       "      <td>HQl28KMwrEKHqhFrrDqVNQ</td>\n",
       "      <td>5</td>\n",
       "      <td>6</td>\n",
       "      <td>2</td>\n",
       "      <td>5</td>\n",
       "      <td>We walked into Melt. \"Did you want to put your...</td>\n",
       "      <td>2011-08-25 04:24:23</td>\n",
       "      <td>Deagan's Kitchen &amp; Bar</td>\n",
       "      <td>...</td>\n",
       "      <td>OH</td>\n",
       "      <td>44107</td>\n",
       "      <td>41.485192</td>\n",
       "      <td>-81.800145</td>\n",
       "      <td>4.0</td>\n",
       "      <td>417</td>\n",
       "      <td>1</td>\n",
       "      <td>{'BusinessAcceptsCreditCards': 'True', 'Outdoo...</td>\n",
       "      <td>Restaurants, Gastropubs, Nightlife, American (...</td>\n",
       "      <td>{'Tuesday': '11:0-22:0', 'Wednesday': '11:0-22...</td>\n",
       "    </tr>\n",
       "    <tr>\n",
       "      <th>2</th>\n",
       "      <td>wHrtQRyk0ypungXd6hT8nQ</td>\n",
       "      <td>4V985R3RG-rv0B7WCPQzeQ</td>\n",
       "      <td>HQl28KMwrEKHqhFrrDqVNQ</td>\n",
       "      <td>1</td>\n",
       "      <td>1</td>\n",
       "      <td>0</td>\n",
       "      <td>0</td>\n",
       "      <td>I commented on how slow the service was last A...</td>\n",
       "      <td>2015-03-04 20:37:43</td>\n",
       "      <td>Deagan's Kitchen &amp; Bar</td>\n",
       "      <td>...</td>\n",
       "      <td>OH</td>\n",
       "      <td>44107</td>\n",
       "      <td>41.485192</td>\n",
       "      <td>-81.800145</td>\n",
       "      <td>4.0</td>\n",
       "      <td>417</td>\n",
       "      <td>1</td>\n",
       "      <td>{'BusinessAcceptsCreditCards': 'True', 'Outdoo...</td>\n",
       "      <td>Restaurants, Gastropubs, Nightlife, American (...</td>\n",
       "      <td>{'Tuesday': '11:0-22:0', 'Wednesday': '11:0-22...</td>\n",
       "    </tr>\n",
       "    <tr>\n",
       "      <th>3</th>\n",
       "      <td>DTb3X5aVOGQ8HHCSAr87wA</td>\n",
       "      <td>nFGcoL6wuPQzxsNJVSfGrA</td>\n",
       "      <td>HQl28KMwrEKHqhFrrDqVNQ</td>\n",
       "      <td>4</td>\n",
       "      <td>2</td>\n",
       "      <td>0</td>\n",
       "      <td>0</td>\n",
       "      <td>We walked in off the streets on a September ni...</td>\n",
       "      <td>2014-09-10 01:38:55</td>\n",
       "      <td>Deagan's Kitchen &amp; Bar</td>\n",
       "      <td>...</td>\n",
       "      <td>OH</td>\n",
       "      <td>44107</td>\n",
       "      <td>41.485192</td>\n",
       "      <td>-81.800145</td>\n",
       "      <td>4.0</td>\n",
       "      <td>417</td>\n",
       "      <td>1</td>\n",
       "      <td>{'BusinessAcceptsCreditCards': 'True', 'Outdoo...</td>\n",
       "      <td>Restaurants, Gastropubs, Nightlife, American (...</td>\n",
       "      <td>{'Tuesday': '11:0-22:0', 'Wednesday': '11:0-22...</td>\n",
       "    </tr>\n",
       "    <tr>\n",
       "      <th>4</th>\n",
       "      <td>NPyAutqgU_zIZBSnycJd6w</td>\n",
       "      <td>CJqgUQeWhdgbDyLAFy7xvQ</td>\n",
       "      <td>HQl28KMwrEKHqhFrrDqVNQ</td>\n",
       "      <td>4</td>\n",
       "      <td>0</td>\n",
       "      <td>0</td>\n",
       "      <td>0</td>\n",
       "      <td>Brunch on Saturday was excellent. The Bloody M...</td>\n",
       "      <td>2018-01-21 18:50:29</td>\n",
       "      <td>Deagan's Kitchen &amp; Bar</td>\n",
       "      <td>...</td>\n",
       "      <td>OH</td>\n",
       "      <td>44107</td>\n",
       "      <td>41.485192</td>\n",
       "      <td>-81.800145</td>\n",
       "      <td>4.0</td>\n",
       "      <td>417</td>\n",
       "      <td>1</td>\n",
       "      <td>{'BusinessAcceptsCreditCards': 'True', 'Outdoo...</td>\n",
       "      <td>Restaurants, Gastropubs, Nightlife, American (...</td>\n",
       "      <td>{'Tuesday': '11:0-22:0', 'Wednesday': '11:0-22...</td>\n",
       "    </tr>\n",
       "  </tbody>\n",
       "</table>\n",
       "<p>5 rows × 22 columns</p>\n",
       "</div>"
      ],
      "text/plain": [
       "                review_id                 user_id             business_id  \\\n",
       "0  LG2ZaYiOgpr2DK_90pYjNw  V34qejxNsCbcgD8C0HVk-Q  HQl28KMwrEKHqhFrrDqVNQ   \n",
       "1  4jMOeTiqNXQ8bpmFdWoFUQ  zFCuveEe6M-ijY1iy23IJg  HQl28KMwrEKHqhFrrDqVNQ   \n",
       "2  wHrtQRyk0ypungXd6hT8nQ  4V985R3RG-rv0B7WCPQzeQ  HQl28KMwrEKHqhFrrDqVNQ   \n",
       "3  DTb3X5aVOGQ8HHCSAr87wA  nFGcoL6wuPQzxsNJVSfGrA  HQl28KMwrEKHqhFrrDqVNQ   \n",
       "4  NPyAutqgU_zIZBSnycJd6w  CJqgUQeWhdgbDyLAFy7xvQ  HQl28KMwrEKHqhFrrDqVNQ   \n",
       "\n",
       "   stars_x  useful  funny  cool  \\\n",
       "0        5       1      0     0   \n",
       "1        5       6      2     5   \n",
       "2        1       1      0     0   \n",
       "3        4       2      0     0   \n",
       "4        4       0      0     0   \n",
       "\n",
       "                                                text                date  \\\n",
       "0  I love Deagan's. I do. I really do. The atmosp... 2015-12-05 03:18:11   \n",
       "1  We walked into Melt. \"Did you want to put your... 2011-08-25 04:24:23   \n",
       "2  I commented on how slow the service was last A... 2015-03-04 20:37:43   \n",
       "3  We walked in off the streets on a September ni... 2014-09-10 01:38:55   \n",
       "4  Brunch on Saturday was excellent. The Bloody M... 2018-01-21 18:50:29   \n",
       "\n",
       "                     name  ... state postal_code   latitude  longitude  \\\n",
       "0  Deagan's Kitchen & Bar  ...    OH       44107  41.485192 -81.800145   \n",
       "1  Deagan's Kitchen & Bar  ...    OH       44107  41.485192 -81.800145   \n",
       "2  Deagan's Kitchen & Bar  ...    OH       44107  41.485192 -81.800145   \n",
       "3  Deagan's Kitchen & Bar  ...    OH       44107  41.485192 -81.800145   \n",
       "4  Deagan's Kitchen & Bar  ...    OH       44107  41.485192 -81.800145   \n",
       "\n",
       "   stars_y  review_count  is_open  \\\n",
       "0      4.0           417        1   \n",
       "1      4.0           417        1   \n",
       "2      4.0           417        1   \n",
       "3      4.0           417        1   \n",
       "4      4.0           417        1   \n",
       "\n",
       "                                          attributes  \\\n",
       "0  {'BusinessAcceptsCreditCards': 'True', 'Outdoo...   \n",
       "1  {'BusinessAcceptsCreditCards': 'True', 'Outdoo...   \n",
       "2  {'BusinessAcceptsCreditCards': 'True', 'Outdoo...   \n",
       "3  {'BusinessAcceptsCreditCards': 'True', 'Outdoo...   \n",
       "4  {'BusinessAcceptsCreditCards': 'True', 'Outdoo...   \n",
       "\n",
       "                                          categories  \\\n",
       "0  Restaurants, Gastropubs, Nightlife, American (...   \n",
       "1  Restaurants, Gastropubs, Nightlife, American (...   \n",
       "2  Restaurants, Gastropubs, Nightlife, American (...   \n",
       "3  Restaurants, Gastropubs, Nightlife, American (...   \n",
       "4  Restaurants, Gastropubs, Nightlife, American (...   \n",
       "\n",
       "                                               hours  \n",
       "0  {'Tuesday': '11:0-22:0', 'Wednesday': '11:0-22...  \n",
       "1  {'Tuesday': '11:0-22:0', 'Wednesday': '11:0-22...  \n",
       "2  {'Tuesday': '11:0-22:0', 'Wednesday': '11:0-22...  \n",
       "3  {'Tuesday': '11:0-22:0', 'Wednesday': '11:0-22...  \n",
       "4  {'Tuesday': '11:0-22:0', 'Wednesday': '11:0-22...  \n",
       "\n",
       "[5 rows x 22 columns]"
      ]
     },
     "execution_count": 27,
     "metadata": {},
     "output_type": "execute_result"
    }
   ],
   "source": [
    "data.head()"
   ]
  },
  {
   "cell_type": "code",
   "execution_count": 28,
   "metadata": {},
   "outputs": [
    {
     "data": {
      "text/plain": [
       "review_id           0\n",
       "user_id             0\n",
       "business_id         0\n",
       "stars_x             0\n",
       "useful              0\n",
       "funny               0\n",
       "cool                0\n",
       "text                0\n",
       "date                0\n",
       "name                0\n",
       "address             0\n",
       "city                0\n",
       "state               0\n",
       "postal_code         0\n",
       "latitude            0\n",
       "longitude           0\n",
       "stars_y             0\n",
       "review_count        0\n",
       "is_open             0\n",
       "attributes      29210\n",
       "categories        333\n",
       "hours           75404\n",
       "dtype: int64"
      ]
     },
     "execution_count": 28,
     "metadata": {},
     "output_type": "execute_result"
    }
   ],
   "source": [
    "data.isnull().sum()"
   ]
  },
  {
   "cell_type": "code",
   "execution_count": 29,
   "metadata": {},
   "outputs": [
    {
     "data": {
      "text/plain": [
       "\"Awesome dessert spot! Staff is always helpful and the waffles speak for themselves. If you're here debating on going: get in your car and drive yourself here for some waffles already!\""
      ]
     },
     "execution_count": 29,
     "metadata": {},
     "output_type": "execute_result"
    }
   ],
   "source": [
    "data.loc[15000,'text']"
   ]
  },
  {
   "cell_type": "code",
   "execution_count": 30,
   "metadata": {},
   "outputs": [],
   "source": [
    "data = data[-data['categories'].isnull()]"
   ]
  },
  {
   "cell_type": "code",
   "execution_count": 31,
   "metadata": {},
   "outputs": [
    {
     "data": {
      "text/plain": [
       "(36118, 22)"
      ]
     },
     "execution_count": 31,
     "metadata": {},
     "output_type": "execute_result"
    }
   ],
   "source": [
    "# Filter the data whose business contain desserts\n",
    "filt = filter(lambda x: True if 'desserts' in data.loc[x,'categories'].lower() else False, data.index.values)\n",
    "dessert = data.loc[list(filt),:]\n",
    "dessert.shape"
   ]
  },
  {
   "cell_type": "code",
   "execution_count": 32,
   "metadata": {},
   "outputs": [
    {
     "data": {
      "text/plain": [
       "Index(['review_id', 'user_id', 'business_id', 'stars_x', 'useful', 'funny',\n",
       "       'cool', 'text', 'date', 'name', 'address', 'city', 'state',\n",
       "       'postal_code', 'latitude', 'longitude', 'stars_y', 'review_count',\n",
       "       'is_open', 'attributes', 'categories', 'hours'],\n",
       "      dtype='object')"
      ]
     },
     "execution_count": 32,
     "metadata": {},
     "output_type": "execute_result"
    }
   ],
   "source": [
    "dessert.columns"
   ]
  },
  {
   "cell_type": "code",
   "execution_count": 33,
   "metadata": {},
   "outputs": [
    {
     "data": {
      "text/html": [
       "<div>\n",
       "<style scoped>\n",
       "    .dataframe tbody tr th:only-of-type {\n",
       "        vertical-align: middle;\n",
       "    }\n",
       "\n",
       "    .dataframe tbody tr th {\n",
       "        vertical-align: top;\n",
       "    }\n",
       "\n",
       "    .dataframe thead th {\n",
       "        text-align: right;\n",
       "    }\n",
       "</style>\n",
       "<table border=\"1\" class=\"dataframe\">\n",
       "  <thead>\n",
       "    <tr style=\"text-align: right;\">\n",
       "      <th></th>\n",
       "      <th>review_id</th>\n",
       "      <th>user_id</th>\n",
       "      <th>business_id</th>\n",
       "      <th>stars_x</th>\n",
       "      <th>text</th>\n",
       "      <th>name</th>\n",
       "      <th>city</th>\n",
       "      <th>state</th>\n",
       "      <th>stars_y</th>\n",
       "      <th>review_count</th>\n",
       "      <th>attributes</th>\n",
       "      <th>categories</th>\n",
       "    </tr>\n",
       "  </thead>\n",
       "  <tbody>\n",
       "    <tr>\n",
       "      <th>4908</th>\n",
       "      <td>EDQpLLFiAxeSxWI5ipwzBQ</td>\n",
       "      <td>SkueY7hVsyXmYItELoodGw</td>\n",
       "      <td>lpel3pRFAzlow7u2TJMz4Q</td>\n",
       "      <td>4</td>\n",
       "      <td>The server had an extensive knowledge of wines...</td>\n",
       "      <td>Humble Wine Bar</td>\n",
       "      <td>Lakewood</td>\n",
       "      <td>OH</td>\n",
       "      <td>4.0</td>\n",
       "      <td>153</td>\n",
       "      <td>{'HasTV': 'True', 'Alcohol': 'u'full_bar'', 'B...</td>\n",
       "      <td>Food, Tapas/Small Plates, Vegan, Desserts, Res...</td>\n",
       "    </tr>\n",
       "    <tr>\n",
       "      <th>4909</th>\n",
       "      <td>c4_BcnjSLtBuF_3O4JNnfA</td>\n",
       "      <td>mXQjS9WLNzHlb8R45VinIw</td>\n",
       "      <td>lpel3pRFAzlow7u2TJMz4Q</td>\n",
       "      <td>5</td>\n",
       "      <td>If you come on a Friday or Saturday after 6 or...</td>\n",
       "      <td>Humble Wine Bar</td>\n",
       "      <td>Lakewood</td>\n",
       "      <td>OH</td>\n",
       "      <td>4.0</td>\n",
       "      <td>153</td>\n",
       "      <td>{'HasTV': 'True', 'Alcohol': 'u'full_bar'', 'B...</td>\n",
       "      <td>Food, Tapas/Small Plates, Vegan, Desserts, Res...</td>\n",
       "    </tr>\n",
       "    <tr>\n",
       "      <th>4910</th>\n",
       "      <td>x4OI8tEvVEnNDyZgQeE-IA</td>\n",
       "      <td>NfU0zDaTMEQ4-X9dbQWd9A</td>\n",
       "      <td>lpel3pRFAzlow7u2TJMz4Q</td>\n",
       "      <td>5</td>\n",
       "      <td>Where Humble may have fallen short for other Y...</td>\n",
       "      <td>Humble Wine Bar</td>\n",
       "      <td>Lakewood</td>\n",
       "      <td>OH</td>\n",
       "      <td>4.0</td>\n",
       "      <td>153</td>\n",
       "      <td>{'HasTV': 'True', 'Alcohol': 'u'full_bar'', 'B...</td>\n",
       "      <td>Food, Tapas/Small Plates, Vegan, Desserts, Res...</td>\n",
       "    </tr>\n",
       "    <tr>\n",
       "      <th>4911</th>\n",
       "      <td>QTFqdSSoFD-aNHL_bhK8_A</td>\n",
       "      <td>iqrrTyAO0NABo18XBNJbNA</td>\n",
       "      <td>lpel3pRFAzlow7u2TJMz4Q</td>\n",
       "      <td>5</td>\n",
       "      <td>I absolutely knew I would love this wine bar f...</td>\n",
       "      <td>Humble Wine Bar</td>\n",
       "      <td>Lakewood</td>\n",
       "      <td>OH</td>\n",
       "      <td>4.0</td>\n",
       "      <td>153</td>\n",
       "      <td>{'HasTV': 'True', 'Alcohol': 'u'full_bar'', 'B...</td>\n",
       "      <td>Food, Tapas/Small Plates, Vegan, Desserts, Res...</td>\n",
       "    </tr>\n",
       "    <tr>\n",
       "      <th>4912</th>\n",
       "      <td>5dmfqkT8CSKO81UuXFGI4A</td>\n",
       "      <td>Hp7XX4n76TdAKsIH9JUxJw</td>\n",
       "      <td>lpel3pRFAzlow7u2TJMz4Q</td>\n",
       "      <td>5</td>\n",
       "      <td>I first visited Humble with my girlfriends sho...</td>\n",
       "      <td>Humble Wine Bar</td>\n",
       "      <td>Lakewood</td>\n",
       "      <td>OH</td>\n",
       "      <td>4.0</td>\n",
       "      <td>153</td>\n",
       "      <td>{'HasTV': 'True', 'Alcohol': 'u'full_bar'', 'B...</td>\n",
       "      <td>Food, Tapas/Small Plates, Vegan, Desserts, Res...</td>\n",
       "    </tr>\n",
       "  </tbody>\n",
       "</table>\n",
       "</div>"
      ],
      "text/plain": [
       "                   review_id                 user_id             business_id  \\\n",
       "4908  EDQpLLFiAxeSxWI5ipwzBQ  SkueY7hVsyXmYItELoodGw  lpel3pRFAzlow7u2TJMz4Q   \n",
       "4909  c4_BcnjSLtBuF_3O4JNnfA  mXQjS9WLNzHlb8R45VinIw  lpel3pRFAzlow7u2TJMz4Q   \n",
       "4910  x4OI8tEvVEnNDyZgQeE-IA  NfU0zDaTMEQ4-X9dbQWd9A  lpel3pRFAzlow7u2TJMz4Q   \n",
       "4911  QTFqdSSoFD-aNHL_bhK8_A  iqrrTyAO0NABo18XBNJbNA  lpel3pRFAzlow7u2TJMz4Q   \n",
       "4912  5dmfqkT8CSKO81UuXFGI4A  Hp7XX4n76TdAKsIH9JUxJw  lpel3pRFAzlow7u2TJMz4Q   \n",
       "\n",
       "      stars_x                                               text  \\\n",
       "4908        4  The server had an extensive knowledge of wines...   \n",
       "4909        5  If you come on a Friday or Saturday after 6 or...   \n",
       "4910        5  Where Humble may have fallen short for other Y...   \n",
       "4911        5  I absolutely knew I would love this wine bar f...   \n",
       "4912        5  I first visited Humble with my girlfriends sho...   \n",
       "\n",
       "                 name      city state  stars_y  review_count  \\\n",
       "4908  Humble Wine Bar  Lakewood    OH      4.0           153   \n",
       "4909  Humble Wine Bar  Lakewood    OH      4.0           153   \n",
       "4910  Humble Wine Bar  Lakewood    OH      4.0           153   \n",
       "4911  Humble Wine Bar  Lakewood    OH      4.0           153   \n",
       "4912  Humble Wine Bar  Lakewood    OH      4.0           153   \n",
       "\n",
       "                                             attributes  \\\n",
       "4908  {'HasTV': 'True', 'Alcohol': 'u'full_bar'', 'B...   \n",
       "4909  {'HasTV': 'True', 'Alcohol': 'u'full_bar'', 'B...   \n",
       "4910  {'HasTV': 'True', 'Alcohol': 'u'full_bar'', 'B...   \n",
       "4911  {'HasTV': 'True', 'Alcohol': 'u'full_bar'', 'B...   \n",
       "4912  {'HasTV': 'True', 'Alcohol': 'u'full_bar'', 'B...   \n",
       "\n",
       "                                             categories  \n",
       "4908  Food, Tapas/Small Plates, Vegan, Desserts, Res...  \n",
       "4909  Food, Tapas/Small Plates, Vegan, Desserts, Res...  \n",
       "4910  Food, Tapas/Small Plates, Vegan, Desserts, Res...  \n",
       "4911  Food, Tapas/Small Plates, Vegan, Desserts, Res...  \n",
       "4912  Food, Tapas/Small Plates, Vegan, Desserts, Res...  "
      ]
     },
     "execution_count": 33,
     "metadata": {},
     "output_type": "execute_result"
    }
   ],
   "source": [
    "# Drop useless attributes\n",
    "dessert_clean = dessert.drop(['cool','date','funny','useful','address','postal_code','is_open','hours','latitude','longitude'],axis = 1)\n",
    "dessert_clean.head()"
   ]
  },
  {
   "cell_type": "code",
   "execution_count": 35,
   "metadata": {},
   "outputs": [],
   "source": [
    "dessert_clean.to_csv('../Data/dessert.csv')"
   ]
  }
 ],
 "metadata": {
  "kernelspec": {
   "display_name": "Python 3",
   "language": "python",
   "name": "python3"
  },
  "language_info": {
   "codemirror_mode": {
    "name": "ipython",
    "version": 3
   },
   "file_extension": ".py",
   "mimetype": "text/x-python",
   "name": "python",
   "nbconvert_exporter": "python",
   "pygments_lexer": "ipython3",
   "version": "3.8.3"
  }
 },
 "nbformat": 4,
 "nbformat_minor": 2
}
