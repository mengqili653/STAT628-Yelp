{
 "cells": [
  {
   "cell_type": "code",
   "execution_count": 2,
   "metadata": {},
   "outputs": [],
   "source": [
    "import pandas as pd\n",
    "dessert_clean = pd.read_csv(\"../Data/dessert.csv\")"
   ]
  },
  {
   "cell_type": "code",
   "execution_count": 8,
   "metadata": {},
   "outputs": [
    {
     "name": "stdout",
     "output_type": "stream",
     "text": [
      "/Users/chenhao/Desktop/STAT628-Yelp/code\r\n"
     ]
    }
   ],
   "source": [
    "!pwd"
   ]
  },
  {
   "cell_type": "code",
   "execution_count": 12,
   "metadata": {},
   "outputs": [
    {
     "name": "stderr",
     "output_type": "stream",
     "text": [
      "[nltk_data] Downloading package punkt to\n",
      "[nltk_data]     C:\\Users\\65733\\AppData\\Roaming\\nltk_data...\n",
      "[nltk_data]   Package punkt is already up-to-date!\n",
      "[nltk_data] Downloading package wordnet to\n",
      "[nltk_data]     C:\\Users\\65733\\AppData\\Roaming\\nltk_data...\n",
      "[nltk_data]   Package wordnet is already up-to-date!\n",
      "[nltk_data] Downloading package stopwords to\n",
      "[nltk_data]     C:\\Users\\65733\\AppData\\Roaming\\nltk_data...\n",
      "[nltk_data]   Package stopwords is already up-to-date!\n",
      "[nltk_data] Downloading package twitter_samples to\n",
      "[nltk_data]     C:\\Users\\65733\\AppData\\Roaming\\nltk_data...\n",
      "[nltk_data]   Package twitter_samples is already up-to-date!\n"
     ]
    }
   ],
   "source": [
    "import nltk\n",
    "nltk.download('punkt')\n",
    "nltk.download('wordnet')\n",
    "nltk.download('stopwords')\n",
    "nltk.download('twitter_samples')\n"
   ]
  },
  {
   "cell_type": "code",
   "execution_count": 3,
   "metadata": {},
   "outputs": [
    {
     "data": {
      "text/plain": [
       "[('place', 20792),\n",
       " ('good', 20644),\n",
       " ('food', 19132),\n",
       " ('great', 15649),\n",
       " ('time', 13363),\n",
       " ('like', 12895),\n",
       " ('one', 12370),\n",
       " ('get', 11116),\n",
       " ('service', 10699),\n",
       " ('back', 9693),\n",
       " ('really', 9627),\n",
       " ('would', 9597),\n",
       " ('go', 9518),\n",
       " ('also', 9222),\n",
       " ('cream', 8508),\n",
       " ('delicious', 8261),\n",
       " ('got', 7650),\n",
       " ('ordered', 7471),\n",
       " ('ice', 7344),\n",
       " ('flavor', 7309),\n",
       " ('love', 7167),\n",
       " ('restaurant', 6961),\n",
       " ('order', 6893),\n",
       " ('best', 6876),\n",
       " ('ive', 6770),\n",
       " ('try', 6713),\n",
       " ('chocolate', 6597),\n",
       " ('well', 6595),\n",
       " ('cake', 6549),\n",
       " ('nice', 6536)]"
      ]
     },
     "execution_count": 3,
     "metadata": {},
     "output_type": "execute_result"
    }
   ],
   "source": [
    "import nltk\n",
    "# Make comments to lowercase\n",
    "comment = list(dessert_clean.text)\n",
    "comment = [i.lower() for i in comment]\n",
    "\n",
    "# Remove all punctuations for the comments\n",
    "import string\n",
    "\n",
    "remove = str.maketrans('','',string.punctuation)\n",
    "without_punctuation = [i.translate(remove) for i in comment]\n",
    "\n",
    "# Tokenize\n",
    "tokenize = [nltk.word_tokenize(i) for i in without_punctuation]\n",
    "\n",
    "# Remove stopwords\n",
    "from nltk.corpus import stopwords\n",
    "\n",
    "stop = set(stopwords.words('english')) \n",
    "words = [[i for i in j if i not in stop] for j in tokenize]\n",
    "\n",
    "# Stemming\n",
    "#from nltk.stem.porter import PorterStemmer\n",
    "\n",
    "#porter = PorterStemmer()\n",
    "#stemmed = [[porter.stem(i) for i in j] for j in words]\n",
    "\n",
    "# Lemmatization\n",
    "from nltk.stem.wordnet import WordNetLemmatizer\n",
    "\n",
    "\n",
    "lem = WordNetLemmatizer()\n",
    "lemmed = [[lem.lemmatize(i) for i in j] for j in words]\n",
    "\n",
    "dessert_clean['text'] = lemmed\n",
    "dessert_clean.reset_index(drop=True, inplace=True)\n",
    "\n",
    "dessert_clean.head()\n",
    "\n",
    "dessert_clean.to_csv('dessert_clean.csv')\n",
    "\n",
    "alltext = [[i for i in j] for j in dessert_clean['text']]\n",
    "\n",
    "a = []\n",
    "for i in dessert_clean['text']:\n",
    "    for j in i:\n",
    "        a.append(j)\n",
    "\n",
    "import collections\n",
    "count = collections.Counter(a)\n",
    "count.most_common(30)"
   ]
  }
 ],
 "metadata": {
  "kernelspec": {
   "display_name": "Python 3",
   "language": "python",
   "name": "python3"
  },
  "language_info": {
   "codemirror_mode": {
    "name": "ipython",
    "version": 3
   },
   "file_extension": ".py",
   "mimetype": "text/x-python",
   "name": "python",
   "nbconvert_exporter": "python",
   "pygments_lexer": "ipython3",
   "version": "3.7.3"
  }
 },
 "nbformat": 4,
 "nbformat_minor": 4
}
