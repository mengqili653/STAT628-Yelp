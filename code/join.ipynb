{
 "cells": [
  {
   "cell_type": "code",
   "execution_count": 14,
   "metadata": {},
   "outputs": [],
   "source": [
    "import pandas as pd"
   ]
  },
  {
   "cell_type": "code",
   "execution_count": 15,
   "metadata": {},
   "outputs": [],
   "source": [
    "df1 = pd.read_csv(\"../Data/n_data_with_score.csv\")\n",
    "df2 = pd.read_csv(\"../Data/dessert.csv\")\n",
    "df = pd.merge(df1, df2, left_on='id', right_on='business_id')[[\"id\", \"name\", \"word\", \"pos.neg\", \"ratio\", \"score\"]]"
   ]
  },
  {
   "cell_type": "code",
   "execution_count": 16,
   "metadata": {},
   "outputs": [
    {
     "data": {
      "text/html": [
       "<div>\n",
       "<style scoped>\n",
       "    .dataframe tbody tr th:only-of-type {\n",
       "        vertical-align: middle;\n",
       "    }\n",
       "\n",
       "    .dataframe tbody tr th {\n",
       "        vertical-align: top;\n",
       "    }\n",
       "\n",
       "    .dataframe thead th {\n",
       "        text-align: right;\n",
       "    }\n",
       "</style>\n",
       "<table border=\"1\" class=\"dataframe\">\n",
       "  <thead>\n",
       "    <tr style=\"text-align: right;\">\n",
       "      <th></th>\n",
       "      <th>id</th>\n",
       "      <th>name</th>\n",
       "      <th>word</th>\n",
       "      <th>pos.neg</th>\n",
       "      <th>ratio</th>\n",
       "      <th>score</th>\n",
       "    </tr>\n",
       "  </thead>\n",
       "  <tbody>\n",
       "    <tr>\n",
       "      <th>0</th>\n",
       "      <td>lpel3pRFAzlow7u2TJMz4Q</td>\n",
       "      <td>Humble Wine Bar</td>\n",
       "      <td>hostess</td>\n",
       "      <td>['neg', 'pos']</td>\n",
       "      <td>14.9</td>\n",
       "      <td>0.0</td>\n",
       "    </tr>\n",
       "    <tr>\n",
       "      <th>1</th>\n",
       "      <td>lpel3pRFAzlow7u2TJMz4Q</td>\n",
       "      <td>Humble Wine Bar</td>\n",
       "      <td>hostess</td>\n",
       "      <td>['neg', 'pos']</td>\n",
       "      <td>14.9</td>\n",
       "      <td>0.0</td>\n",
       "    </tr>\n",
       "    <tr>\n",
       "      <th>2</th>\n",
       "      <td>lpel3pRFAzlow7u2TJMz4Q</td>\n",
       "      <td>Humble Wine Bar</td>\n",
       "      <td>hostess</td>\n",
       "      <td>['neg', 'pos']</td>\n",
       "      <td>14.9</td>\n",
       "      <td>0.0</td>\n",
       "    </tr>\n",
       "    <tr>\n",
       "      <th>3</th>\n",
       "      <td>lpel3pRFAzlow7u2TJMz4Q</td>\n",
       "      <td>Humble Wine Bar</td>\n",
       "      <td>hostess</td>\n",
       "      <td>['neg', 'pos']</td>\n",
       "      <td>14.9</td>\n",
       "      <td>0.0</td>\n",
       "    </tr>\n",
       "    <tr>\n",
       "      <th>4</th>\n",
       "      <td>lpel3pRFAzlow7u2TJMz4Q</td>\n",
       "      <td>Humble Wine Bar</td>\n",
       "      <td>hostess</td>\n",
       "      <td>['neg', 'pos']</td>\n",
       "      <td>14.9</td>\n",
       "      <td>0.0</td>\n",
       "    </tr>\n",
       "  </tbody>\n",
       "</table>\n",
       "</div>"
      ],
      "text/plain": [
       "                       id             name     word         pos.neg  ratio  \\\n",
       "0  lpel3pRFAzlow7u2TJMz4Q  Humble Wine Bar  hostess  ['neg', 'pos']   14.9   \n",
       "1  lpel3pRFAzlow7u2TJMz4Q  Humble Wine Bar  hostess  ['neg', 'pos']   14.9   \n",
       "2  lpel3pRFAzlow7u2TJMz4Q  Humble Wine Bar  hostess  ['neg', 'pos']   14.9   \n",
       "3  lpel3pRFAzlow7u2TJMz4Q  Humble Wine Bar  hostess  ['neg', 'pos']   14.9   \n",
       "4  lpel3pRFAzlow7u2TJMz4Q  Humble Wine Bar  hostess  ['neg', 'pos']   14.9   \n",
       "\n",
       "   score  \n",
       "0    0.0  \n",
       "1    0.0  \n",
       "2    0.0  \n",
       "3    0.0  \n",
       "4    0.0  "
      ]
     },
     "execution_count": 16,
     "metadata": {},
     "output_type": "execute_result"
    }
   ],
   "source": [
    "df.head()"
   ]
  },
  {
   "cell_type": "code",
   "execution_count": 18,
   "metadata": {},
   "outputs": [],
   "source": [
    "df.to_csv(\"../Data/sentiment.csv\")"
   ]
  },
  {
   "cell_type": "code",
   "execution_count": null,
   "metadata": {},
   "outputs": [],
   "source": []
  }
 ],
 "metadata": {
  "kernelspec": {
   "display_name": "Python 3",
   "language": "python",
   "name": "python3"
  },
  "language_info": {
   "codemirror_mode": {
    "name": "ipython",
    "version": 3
   },
   "file_extension": ".py",
   "mimetype": "text/x-python",
   "name": "python",
   "nbconvert_exporter": "python",
   "pygments_lexer": "ipython3",
   "version": "3.8.3"
  }
 },
 "nbformat": 4,
 "nbformat_minor": 4
}
